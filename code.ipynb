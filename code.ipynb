{
 "cells": [
  {
   "cell_type": "markdown",
   "id": "8748cb27",
   "metadata": {},
   "source": [
    "## WÜRTH ITALIA – Capstone Projects: Product Recommendation Project 2\n",
    "### Name: Gyeongwon Song"
   ]
  },
  {
   "cell_type": "markdown",
   "id": "1ea8dacf",
   "metadata": {},
   "source": [
    "### Importing Libraries and Reading Data"
   ]
  },
  {
   "cell_type": "code",
   "execution_count": 1,
   "id": "5b7ba616",
   "metadata": {},
   "outputs": [
    {
     "name": "stdout",
     "output_type": "stream",
     "text": [
      "WARNING:tensorflow:From /Users/gyeongwonsong/anaconda3/lib/python3.11/site-packages/tensorflow/python/compat/v2_compat.py:108: disable_resource_variables (from tensorflow.python.ops.variable_scope) is deprecated and will be removed in a future version.\n",
      "Instructions for updating:\n",
      "non-resource variables are not supported in the long term\n"
     ]
    }
   ],
   "source": [
    "import pandas as pd\n",
    "import matplotlib.pyplot as plt\n",
    "import warnings\n",
    "from sklearn.model_selection import train_test_split\n",
    "from sklearn.metrics.pairwise import cosine_similarity\n",
    "from sklearn.cluster import KMeans\n",
    "from sklearn.metrics import silhouette_score\n",
    "from libreco.data import random_split, DatasetPure\n",
    "from libreco.algorithms import NCF\n",
    "from libreco.evaluation import evaluate\n",
    "\n",
    "warnings.filterwarnings('ignore')\n",
    "\n",
    "df = pd.read_csv('products_recommendation_dataset.txt', sep=',')\n",
    "\n",
    "df.columns = df.columns.str.strip()"
   ]
  },
  {
   "cell_type": "markdown",
   "id": "5bc6f5c2",
   "metadata": {},
   "source": [
    "### Handle Missing Values"
   ]
  },
  {
   "cell_type": "code",
   "execution_count": 2,
   "id": "f9b92104",
   "metadata": {
    "scrolled": true
   },
   "outputs": [
    {
     "name": "stdout",
     "output_type": "stream",
     "text": [
      "Id                         0\n",
      "customerid                 0\n",
      "level5id                   0\n",
      "dat_action           6379695\n",
      "actions_type               0\n",
      "actions_count              0\n",
      "att_marketsegment          0\n",
      "att_saleschannel           0\n",
      "att_sector                 0\n",
      "level4id                   0\n",
      "level3id                   0\n",
      "level2id                   0\n",
      "level1id                   0\n",
      "dtype: int64\n"
     ]
    }
   ],
   "source": [
    "# Check for missing values\n",
    "print(df.isnull().sum())\n",
    "\n",
    "# Drop rows with missing values (if applicable)\n",
    "df = df.dropna()"
   ]
  },
  {
   "cell_type": "code",
   "execution_count": 3,
   "id": "64f601f2",
   "metadata": {
    "scrolled": true
   },
   "outputs": [
    {
     "data": {
      "text/plain": [
       "purchase                  207701\n",
       "ecommerceAbandonedCart     79809\n",
       "search                     67216\n",
       "action                     50611\n",
       "download                    1338\n",
       "Name: actions_type, dtype: int64"
      ]
     },
     "execution_count": 3,
     "metadata": {},
     "output_type": "execute_result"
    }
   ],
   "source": [
    "df['actions_type'].value_counts()"
   ]
  },
  {
   "cell_type": "markdown",
   "id": "4fc3d8e3",
   "metadata": {},
   "source": [
    "### Feature Engineering"
   ]
  },
  {
   "cell_type": "code",
   "execution_count": 4,
   "id": "acfca00e",
   "metadata": {},
   "outputs": [],
   "source": [
    "df = df[df['actions_type'] != 'ecommerceAbandonedCart']"
   ]
  },
  {
   "cell_type": "code",
   "execution_count": 5,
   "id": "056722ba",
   "metadata": {},
   "outputs": [],
   "source": [
    "# Convert dat_action to datetime\n",
    "df['dat_action'] = pd.to_datetime(df['dat_action'])\n",
    "\n",
    "# Convert categorical columns to category type\n",
    "df['actions_type'] = df['actions_type'].astype('category')\n",
    "df['att_sector'] = df['att_sector'].astype('category')\n",
    "\n",
    "# Remove duplicates\n",
    "df = df.drop_duplicates()\n",
    "\n",
    "# Add a new feature for the month of the action\n",
    "df['action_month'] = df['dat_action'].dt.month\n",
    "\n",
    "# Aggregate actions by customer, level5id, and day\n",
    "daily_actions = df.groupby(['customerid', 'level5id', 'dat_action']).agg({'actions_count': 'sum'}).reset_index()\n",
    "\n",
    "# Sort data by dat_action to maintain chronological order\n",
    "daily_actions = daily_actions.sort_values(by='dat_action')\n",
    "\n",
    "# Compute the split point\n",
    "split_point = int(0.8 * len(daily_actions))\n",
    "\n",
    "# Split the data\n",
    "past_data = daily_actions.iloc[:split_point]\n",
    "next_data = daily_actions.iloc[split_point:]"
   ]
  },
  {
   "cell_type": "code",
   "execution_count": 6,
   "id": "0acdcb28",
   "metadata": {},
   "outputs": [
    {
     "data": {
      "text/plain": [
       "Timestamp('2023-09-13 00:00:00')"
      ]
     },
     "execution_count": 6,
     "metadata": {},
     "output_type": "execute_result"
    }
   ],
   "source": [
    "past_data['dat_action'].max()"
   ]
  },
  {
   "cell_type": "code",
   "execution_count": 7,
   "id": "68507db7",
   "metadata": {},
   "outputs": [
    {
     "data": {
      "text/plain": [
       "Timestamp('2023-09-13 00:00:00')"
      ]
     },
     "execution_count": 7,
     "metadata": {},
     "output_type": "execute_result"
    }
   ],
   "source": [
    "next_data['dat_action'].min()"
   ]
  },
  {
   "cell_type": "markdown",
   "id": "fca0c835",
   "metadata": {},
   "source": [
    "## User-Based Collaborative Filtering\n",
    "### 1. Create User-Item Interaction Matrix"
   ]
  },
  {
   "cell_type": "code",
   "execution_count": 8,
   "id": "855240be",
   "metadata": {},
   "outputs": [],
   "source": [
    "# Create user-item interaction matrix\n",
    "user_item_matrix = past_data.pivot_table(index='customerid', columns='level5id', values='actions_count', aggfunc='sum', fill_value=0)"
   ]
  },
  {
   "cell_type": "code",
   "execution_count": 9,
   "id": "281a8e42",
   "metadata": {},
   "outputs": [
    {
     "data": {
      "text/html": [
       "<div>\n",
       "<style scoped>\n",
       "    .dataframe tbody tr th:only-of-type {\n",
       "        vertical-align: middle;\n",
       "    }\n",
       "\n",
       "    .dataframe tbody tr th {\n",
       "        vertical-align: top;\n",
       "    }\n",
       "\n",
       "    .dataframe thead th {\n",
       "        text-align: right;\n",
       "    }\n",
       "</style>\n",
       "<table border=\"1\" class=\"dataframe\">\n",
       "  <thead>\n",
       "    <tr style=\"text-align: right;\">\n",
       "      <th>level5id</th>\n",
       "      <th>46228</th>\n",
       "      <th>501010204</th>\n",
       "      <th>501010206</th>\n",
       "      <th>501090140</th>\n",
       "      <th>503010409</th>\n",
       "      <th>503010517</th>\n",
       "      <th>503010518</th>\n",
       "      <th>503011304</th>\n",
       "      <th>503011305</th>\n",
       "      <th>503011306</th>\n",
       "      <th>...</th>\n",
       "      <th>50011201539</th>\n",
       "      <th>60150111220</th>\n",
       "      <th>60150111223</th>\n",
       "      <th>60150111224</th>\n",
       "      <th>75010308133</th>\n",
       "      <th>75010309204</th>\n",
       "      <th>75010309205</th>\n",
       "      <th>75040402090</th>\n",
       "      <th>75090101117</th>\n",
       "      <th>75090101166</th>\n",
       "    </tr>\n",
       "    <tr>\n",
       "      <th>customerid</th>\n",
       "      <th></th>\n",
       "      <th></th>\n",
       "      <th></th>\n",
       "      <th></th>\n",
       "      <th></th>\n",
       "      <th></th>\n",
       "      <th></th>\n",
       "      <th></th>\n",
       "      <th></th>\n",
       "      <th></th>\n",
       "      <th></th>\n",
       "      <th></th>\n",
       "      <th></th>\n",
       "      <th></th>\n",
       "      <th></th>\n",
       "      <th></th>\n",
       "      <th></th>\n",
       "      <th></th>\n",
       "      <th></th>\n",
       "      <th></th>\n",
       "      <th></th>\n",
       "    </tr>\n",
       "  </thead>\n",
       "  <tbody>\n",
       "    <tr>\n",
       "      <th>11448266</th>\n",
       "      <td>0</td>\n",
       "      <td>0</td>\n",
       "      <td>0</td>\n",
       "      <td>0</td>\n",
       "      <td>0</td>\n",
       "      <td>0</td>\n",
       "      <td>0</td>\n",
       "      <td>0</td>\n",
       "      <td>0</td>\n",
       "      <td>0</td>\n",
       "      <td>...</td>\n",
       "      <td>0</td>\n",
       "      <td>0</td>\n",
       "      <td>0</td>\n",
       "      <td>2</td>\n",
       "      <td>0</td>\n",
       "      <td>0</td>\n",
       "      <td>0</td>\n",
       "      <td>0</td>\n",
       "      <td>0</td>\n",
       "      <td>0</td>\n",
       "    </tr>\n",
       "    <tr>\n",
       "      <th>30874266</th>\n",
       "      <td>0</td>\n",
       "      <td>0</td>\n",
       "      <td>2</td>\n",
       "      <td>0</td>\n",
       "      <td>0</td>\n",
       "      <td>0</td>\n",
       "      <td>0</td>\n",
       "      <td>0</td>\n",
       "      <td>0</td>\n",
       "      <td>0</td>\n",
       "      <td>...</td>\n",
       "      <td>0</td>\n",
       "      <td>0</td>\n",
       "      <td>0</td>\n",
       "      <td>0</td>\n",
       "      <td>0</td>\n",
       "      <td>0</td>\n",
       "      <td>0</td>\n",
       "      <td>0</td>\n",
       "      <td>0</td>\n",
       "      <td>0</td>\n",
       "    </tr>\n",
       "    <tr>\n",
       "      <th>40422266</th>\n",
       "      <td>1</td>\n",
       "      <td>0</td>\n",
       "      <td>0</td>\n",
       "      <td>0</td>\n",
       "      <td>0</td>\n",
       "      <td>0</td>\n",
       "      <td>0</td>\n",
       "      <td>0</td>\n",
       "      <td>0</td>\n",
       "      <td>0</td>\n",
       "      <td>...</td>\n",
       "      <td>0</td>\n",
       "      <td>0</td>\n",
       "      <td>0</td>\n",
       "      <td>0</td>\n",
       "      <td>1</td>\n",
       "      <td>0</td>\n",
       "      <td>0</td>\n",
       "      <td>0</td>\n",
       "      <td>0</td>\n",
       "      <td>0</td>\n",
       "    </tr>\n",
       "    <tr>\n",
       "      <th>45713266</th>\n",
       "      <td>0</td>\n",
       "      <td>0</td>\n",
       "      <td>0</td>\n",
       "      <td>0</td>\n",
       "      <td>0</td>\n",
       "      <td>0</td>\n",
       "      <td>0</td>\n",
       "      <td>0</td>\n",
       "      <td>0</td>\n",
       "      <td>0</td>\n",
       "      <td>...</td>\n",
       "      <td>0</td>\n",
       "      <td>0</td>\n",
       "      <td>0</td>\n",
       "      <td>0</td>\n",
       "      <td>0</td>\n",
       "      <td>0</td>\n",
       "      <td>0</td>\n",
       "      <td>0</td>\n",
       "      <td>0</td>\n",
       "      <td>0</td>\n",
       "    </tr>\n",
       "    <tr>\n",
       "      <th>50597266</th>\n",
       "      <td>0</td>\n",
       "      <td>0</td>\n",
       "      <td>0</td>\n",
       "      <td>0</td>\n",
       "      <td>0</td>\n",
       "      <td>0</td>\n",
       "      <td>0</td>\n",
       "      <td>0</td>\n",
       "      <td>0</td>\n",
       "      <td>0</td>\n",
       "      <td>...</td>\n",
       "      <td>0</td>\n",
       "      <td>0</td>\n",
       "      <td>0</td>\n",
       "      <td>0</td>\n",
       "      <td>0</td>\n",
       "      <td>0</td>\n",
       "      <td>0</td>\n",
       "      <td>0</td>\n",
       "      <td>0</td>\n",
       "      <td>0</td>\n",
       "    </tr>\n",
       "  </tbody>\n",
       "</table>\n",
       "<p>5 rows × 945 columns</p>\n",
       "</div>"
      ],
      "text/plain": [
       "level5id    46228        501010204    501010206    501090140    503010409    \\\n",
       "customerid                                                                    \n",
       "11448266              0            0            0            0            0   \n",
       "30874266              0            0            2            0            0   \n",
       "40422266              1            0            0            0            0   \n",
       "45713266              0            0            0            0            0   \n",
       "50597266              0            0            0            0            0   \n",
       "\n",
       "level5id    503010517    503010518    503011304    503011305    503011306    \\\n",
       "customerid                                                                    \n",
       "11448266              0            0            0            0            0   \n",
       "30874266              0            0            0            0            0   \n",
       "40422266              0            0            0            0            0   \n",
       "45713266              0            0            0            0            0   \n",
       "50597266              0            0            0            0            0   \n",
       "\n",
       "level5id    ...  50011201539  60150111220  60150111223  60150111224  \\\n",
       "customerid  ...                                                       \n",
       "11448266    ...            0            0            0            2   \n",
       "30874266    ...            0            0            0            0   \n",
       "40422266    ...            0            0            0            0   \n",
       "45713266    ...            0            0            0            0   \n",
       "50597266    ...            0            0            0            0   \n",
       "\n",
       "level5id    75010308133  75010309204  75010309205  75040402090  75090101117  \\\n",
       "customerid                                                                    \n",
       "11448266              0            0            0            0            0   \n",
       "30874266              0            0            0            0            0   \n",
       "40422266              1            0            0            0            0   \n",
       "45713266              0            0            0            0            0   \n",
       "50597266              0            0            0            0            0   \n",
       "\n",
       "level5id    75090101166  \n",
       "customerid               \n",
       "11448266              0  \n",
       "30874266              0  \n",
       "40422266              0  \n",
       "45713266              0  \n",
       "50597266              0  \n",
       "\n",
       "[5 rows x 945 columns]"
      ]
     },
     "execution_count": 9,
     "metadata": {},
     "output_type": "execute_result"
    }
   ],
   "source": [
    "user_item_matrix.head()"
   ]
  },
  {
   "cell_type": "code",
   "execution_count": 10,
   "id": "3383ba0f",
   "metadata": {},
   "outputs": [
    {
     "data": {
      "text/plain": [
       "(606, 945)"
      ]
     },
     "execution_count": 10,
     "metadata": {},
     "output_type": "execute_result"
    }
   ],
   "source": [
    "user_item_matrix.shape"
   ]
  },
  {
   "cell_type": "markdown",
   "id": "d55dacba",
   "metadata": {},
   "source": [
    "### 2. Compute Similarities between Users"
   ]
  },
  {
   "cell_type": "code",
   "execution_count": 11,
   "id": "b338a69e",
   "metadata": {},
   "outputs": [],
   "source": [
    "# Compute user similarities\n",
    "user_similarities = cosine_similarity(user_item_matrix)\n",
    "user_similarities_df = pd.DataFrame(user_similarities, index=user_item_matrix.index, columns=user_item_matrix.index)"
   ]
  },
  {
   "cell_type": "markdown",
   "id": "5a9bae25",
   "metadata": {},
   "source": [
    "### 3. Recommend Products"
   ]
  },
  {
   "cell_type": "code",
   "execution_count": 12,
   "id": "47d0f0a0",
   "metadata": {},
   "outputs": [
    {
     "name": "stdout",
     "output_type": "stream",
     "text": [
      "Recommended products for user 2358331266: [3511110847, 3514081501, 3007030203, 7501030801, 2002130115, 504090414, 504020101, 7002011301, 3514080404, 3008060303, 2004020201, 2001030401, 3006110707, 504070107, 6013040716, 6501080204, 7501030823, 6501140402, 504020201, 3511140108, 6012030901, 5503020502, 7506020114, 6010010812, 3005111504, 6005030602, 3007020206, 6503090209, 6102020704, 3005071010, 3007010114, 504030131, 6005030201, 7509020211, 2016120902, 6102050301, 6013011102, 3006110704, 2016120911, 6005020501, 6013040710, 6010040106, 7001050101, 3513010527, 6012080502, 504090737, 7501050710, 6501140503, 6019152013, 6013010805]\n"
     ]
    }
   ],
   "source": [
    "def recommend_products(user_id, user_item_matrix, user_similarities_df, top_n=50):\n",
    "    similar_users = user_similarities_df[user_id].sort_values(ascending=False).index[1:top_n+1]\n",
    "    similar_users_items = user_item_matrix.loc[similar_users].sum(axis=0)\n",
    "    user_items = user_item_matrix.loc[user_id]\n",
    "    recommendations = similar_users_items[user_items == 0].sort_values(ascending=False)\n",
    "    return recommendations.head(top_n).index.tolist()\n",
    "\n",
    "# Example usage\n",
    "user_id = 2358331266\n",
    "recommended_products = recommend_products(user_id, user_item_matrix, user_similarities_df)\n",
    "print(f\"Recommended products for user {user_id}: {recommended_products}\")"
   ]
  },
  {
   "cell_type": "code",
   "execution_count": 13,
   "id": "b0b27f5f",
   "metadata": {},
   "outputs": [],
   "source": [
    "# Filter the dataset for the specific customer ID\n",
    "customer_data = next_data[next_data['customerid'] == 2358331266]\n",
    "\n",
    "# Aggregate actions_count by level5id\n",
    "aggregated_data = customer_data.groupby('level5id')['actions_count'].sum()\n",
    "\n",
    "# Sort by aggregated actions_count in descending order and get the top 5\n",
    "top_50_items = aggregated_data.sort_values(ascending=False).head(50)"
   ]
  },
  {
   "cell_type": "code",
   "execution_count": 14,
   "id": "459ba133",
   "metadata": {},
   "outputs": [
    {
     "data": {
      "text/plain": [
       "Int64Index([ 504090216, 2002340105, 3008050108, 2002340602, 5504010201,\n",
       "            8002131101, 3007040502, 2001030102,  508030486, 3007070101,\n",
       "            5504060201, 3004030201,  504090202,  504091621, 3008060410,\n",
       "            3004030202, 2001021143, 3009050302,  504080102, 3007070103,\n",
       "            2001021146, 3005030202, 7506010201, 3008050106, 5001030716,\n",
       "            2003020108, 2003010258, 3005090103, 6013070101, 2001021144,\n",
       "            5001030203, 2012011105, 6019050215, 3008060502, 5503010601,\n",
       "            2001021147,  508030421, 2002230511,  504091616, 2001021124,\n",
       "            3511080103,  504090204, 2002130115, 2002110213, 3007042603,\n",
       "            5504060202, 6013010402, 6012030901,  504091659, 2002310404],\n",
       "           dtype='int64', name='level5id')"
      ]
     },
     "execution_count": 14,
     "metadata": {},
     "output_type": "execute_result"
    }
   ],
   "source": [
    "top_50_items.index"
   ]
  },
  {
   "cell_type": "markdown",
   "id": "4cea06dd",
   "metadata": {},
   "source": [
    "## Clustering Algorithm\n",
    "### User Clustering\n",
    "### 1. Extract Features for Users"
   ]
  },
  {
   "cell_type": "code",
   "execution_count": 19,
   "id": "97511ebd",
   "metadata": {},
   "outputs": [],
   "source": [
    "user_features = past_data.groupby('customerid').agg({\n",
    "    'actions_count': 'sum',\n",
    "    'dat_action': pd.Series.nunique\n",
    "}).rename(columns={'actions_type': 'diversity_of_actions', 'dat_action': 'frequency_of_actions'})"
   ]
  },
  {
   "cell_type": "markdown",
   "id": "1f29773b",
   "metadata": {},
   "source": [
    "### 2. Finding the optimal K value: Elbow Method"
   ]
  },
  {
   "cell_type": "code",
   "execution_count": 20,
   "id": "eea1e317",
   "metadata": {},
   "outputs": [
    {
     "data": {
      "image/png": "[encoded data removed]",
      "text/plain": [
       "<Figure size 1200x600 with 1 Axes>"
      ]
     },
     "metadata": {},
     "output_type": "display_data"
    }
   ],
   "source": [
    "wcss = []\n",
    "silhouette_avg_scores = []\n",
    "range_n_clusters = range(2, 11)\n",
    "\n",
    "for n_clusters in range_n_clusters:\n",
    "    kmeans = KMeans(n_clusters=n_clusters, random_state=42, n_init=10)\n",
    "    kmeans.fit(user_features)\n",
    "    wcss.append(kmeans.inertia_)\n",
    "    silhouette_avg = silhouette_score(user_features, kmeans.labels_)\n",
    "    silhouette_avg_scores.append(silhouette_avg)\n",
    "\n",
    "# Plot the Elbow Method\n",
    "plt.figure(figsize=(12, 6))\n",
    "plt.plot(range_n_clusters, wcss, marker='o')\n",
    "plt.title('Elbow Method')\n",
    "plt.xlabel('Number of clusters')\n",
    "plt.ylabel('WCSS')\n",
    "plt.show()"
   ]
  },
  {
   "cell_type": "markdown",
   "id": "c0f9201f",
   "metadata": {},
   "source": [
    "### 3. Apply Clustering Algorithm"
   ]
  },
  {
   "cell_type": "code",
   "execution_count": 21,
   "id": "1066e6a3",
   "metadata": {},
   "outputs": [],
   "source": [
    "kmeans = KMeans(n_clusters=3)\n",
    "user_clusters = kmeans.fit_predict(user_features)\n",
    "user_features['cluster'] = user_clusters"
   ]
  },
  {
   "cell_type": "markdown",
   "id": "1869cce1",
   "metadata": {},
   "source": [
    "### 4. Recommend Based on Cluster"
   ]
  },
  {
   "cell_type": "code",
   "execution_count": 22,
   "id": "3ee82190",
   "metadata": {},
   "outputs": [
    {
     "name": "stdout",
     "output_type": "stream",
     "text": [
      "Cluster-based recommendations for user 2358331266: [5504010201, 2002340105, 3514081501, 3511110847, 504090216, 3512120101, 3004030202, 6014060201, 2002230511, 3514080404, 7509020201, 3511110806, 2002340602, 7501030801, 6020022301, 504091661, 2001030102, 3007070101, 3511140108, 3506010101, 6022072004, 7501050710, 3008050108, 504091621, 6102020701, 2001021143, 6020011107, 3004010404, 3512121107, 6019050211, 7501030823, 3007070103, 2002340302, 6102020703, 7505040703, 3004010406, 3008060318, 3010140815, 3005090103, 508030486, 7509020205, 3007050301, 6013011004, 3007070201, 5002130102, 6013040713, 3004060105, 3508070927, 7501030807, 5504060201]\n"
     ]
    }
   ],
   "source": [
    "def recommend_based_on_cluster(user_id, user_features, past_data, top_n=50):\n",
    "    user_cluster = user_features.loc[user_id, 'cluster']\n",
    "    cluster_users = user_features[user_features['cluster'] == user_cluster].index\n",
    "    cluster_items = df[df['customerid'].isin(cluster_users)]['level5id'].value_counts().head(top_n).index.tolist()\n",
    "    return cluster_items\n",
    "\n",
    "# Example usage\n",
    "cluster_recommendations = recommend_based_on_cluster(user_id, user_features, past_data)\n",
    "print(f\"Cluster-based recommendations for user {user_id}: {cluster_recommendations}\")"
   ]
  },
  {
   "cell_type": "markdown",
   "id": "512ea171",
   "metadata": {},
   "source": [
    "## Machine Learning\n",
    "### Neural Collaborative Filtering (NCF)\n",
    "Neural Collaborative Filtering uses neural networks to model user-item interactions. This method can capture complex patterns in the data that traditional collaborative filtering methods might miss. It combines embedding layers for users and items with deep neural networks to predict user preferences."
   ]
  },
  {
   "cell_type": "markdown",
   "id": "1b2ec4ee",
   "metadata": {},
   "source": [
    "### 1. Data Preparation"
   ]
  },
  {
   "cell_type": "code",
   "execution_count": 23,
   "id": "ceb67088",
   "metadata": {},
   "outputs": [],
   "source": [
    "# Rename columns to fit LibRecommender's expectations\n",
    "data = df[['customerid', 'level5id', 'actions_count', 'dat_action']]\n",
    "data.columns = ['user', 'item', 'label', 'timestamp']"
   ]
  },
  {
   "cell_type": "code",
   "execution_count": 24,
   "id": "6e1114e5",
   "metadata": {},
   "outputs": [],
   "source": [
    "# Ensure 'timestamp' is in the correct format (if needed, convert it to UNIX timestamp)\n",
    "data['timestamp'] = pd.to_datetime(data['timestamp']).astype(int) / 10**9"
   ]
  },
  {
   "cell_type": "code",
   "execution_count": 25,
   "id": "cc339369",
   "metadata": {},
   "outputs": [],
   "source": [
    "train_data, eval_data, test_data = random_split(data, multi_ratios=[0.8, 0.1, 0.1])"
   ]
  },
  {
   "cell_type": "code",
   "execution_count": 26,
   "id": "13424b09",
   "metadata": {},
   "outputs": [],
   "source": [
    "train_data, data_info = DatasetPure.build_trainset(train_data)\n",
    "eval_data = DatasetPure.build_evalset(eval_data)\n",
    "test_data = DatasetPure.build_testset(test_data)"
   ]
  },
  {
   "cell_type": "markdown",
   "id": "003f9988",
   "metadata": {},
   "source": [
    "### 2. Initializaing and fitting the NCF Model"
   ]
  },
  {
   "cell_type": "code",
   "execution_count": 27,
   "id": "4b5130ac",
   "metadata": {},
   "outputs": [
    {
     "name": "stdout",
     "output_type": "stream",
     "text": [
      "Training start time: \u001b[35m2024-09-17 20:43:39\u001b[0m\n",
      "WARNING:tensorflow:From /Users/gyeongwonsong/anaconda3/lib/python3.11/site-packages/keras/src/layers/normalization/batch_normalization.py:883: _colocate_with (from tensorflow.python.framework.ops) is deprecated and will be removed in a future version.\n",
      "Instructions for updating:\n",
      "Colocations handled automatically by placer.\n"
     ]
    },
    {
     "name": "stderr",
     "output_type": "stream",
     "text": [
      "2024-09-17 20:43:39,590 - WARNING - From /Users/gyeongwonsong/anaconda3/lib/python3.11/site-packages/keras/src/layers/normalization/batch_normalization.py:883: _colocate_with (from tensorflow.python.framework.ops) is deprecated and will be removed in a future version.\n",
      "Instructions for updating:\n",
      "Colocations handled automatically by placer.\n",
      "2024-09-17 20:43:39.803887: I tensorflow/compiler/mlir/mlir_graph_optimization_pass.cc:388] MLIR V1 optimization pass is not enabled\n",
      "train: 100%|█████████████████████████████████| 256/256 [00:01<00:00, 176.10it/s]\n"
     ]
    },
    {
     "name": "stdout",
     "output_type": "stream",
     "text": [
      "Epoch 1 elapsed: 1.467s\n",
      "\t \u001b[32mtrain_loss: 0.6229\u001b[0m\n"
     ]
    },
    {
     "name": "stderr",
     "output_type": "stream",
     "text": [
      "eval_pointwise: 100%|████████████████████████████| 8/8 [00:00<00:00, 155.86it/s]\n"
     ]
    },
    {
     "name": "stdout",
     "output_type": "stream",
     "text": [
      "\t eval log_loss: 0.6886\n",
      "==============================\n"
     ]
    },
    {
     "name": "stderr",
     "output_type": "stream",
     "text": [
      "train: 100%|█████████████████████████████████| 256/256 [00:01<00:00, 180.49it/s]\n"
     ]
    },
    {
     "name": "stdout",
     "output_type": "stream",
     "text": [
      "Epoch 2 elapsed: 1.420s\n",
      "\t \u001b[32mtrain_loss: 0.5858\u001b[0m\n"
     ]
    },
    {
     "name": "stderr",
     "output_type": "stream",
     "text": [
      "eval_pointwise: 100%|████████████████████████████| 8/8 [00:00<00:00, 239.20it/s]\n"
     ]
    },
    {
     "name": "stdout",
     "output_type": "stream",
     "text": [
      "\t eval log_loss: 0.5900\n",
      "==============================\n"
     ]
    },
    {
     "name": "stderr",
     "output_type": "stream",
     "text": [
      "train: 100%|█████████████████████████████████| 256/256 [00:01<00:00, 186.34it/s]\n"
     ]
    },
    {
     "name": "stdout",
     "output_type": "stream",
     "text": [
      "Epoch 3 elapsed: 1.375s\n",
      "\t \u001b[32mtrain_loss: 0.548\u001b[0m\n"
     ]
    },
    {
     "name": "stderr",
     "output_type": "stream",
     "text": [
      "eval_pointwise: 100%|████████████████████████████| 8/8 [00:00<00:00, 234.14it/s]\n"
     ]
    },
    {
     "name": "stdout",
     "output_type": "stream",
     "text": [
      "\t eval log_loss: 0.5159\n",
      "==============================\n"
     ]
    },
    {
     "name": "stderr",
     "output_type": "stream",
     "text": [
      "train: 100%|█████████████████████████████████| 256/256 [00:01<00:00, 188.17it/s]\n"
     ]
    },
    {
     "name": "stdout",
     "output_type": "stream",
     "text": [
      "Epoch 4 elapsed: 1.361s\n",
      "\t \u001b[32mtrain_loss: 0.525\u001b[0m\n"
     ]
    },
    {
     "name": "stderr",
     "output_type": "stream",
     "text": [
      "eval_pointwise: 100%|████████████████████████████| 8/8 [00:00<00:00, 213.44it/s]\n"
     ]
    },
    {
     "name": "stdout",
     "output_type": "stream",
     "text": [
      "\t eval log_loss: 0.5010\n",
      "==============================\n"
     ]
    },
    {
     "name": "stderr",
     "output_type": "stream",
     "text": [
      "train: 100%|█████████████████████████████████| 256/256 [00:01<00:00, 167.30it/s]\n"
     ]
    },
    {
     "name": "stdout",
     "output_type": "stream",
     "text": [
      "Epoch 5 elapsed: 1.531s\n",
      "\t \u001b[32mtrain_loss: 0.5119\u001b[0m\n"
     ]
    },
    {
     "name": "stderr",
     "output_type": "stream",
     "text": [
      "eval_pointwise: 100%|████████████████████████████| 8/8 [00:00<00:00, 237.75it/s]\n"
     ]
    },
    {
     "name": "stdout",
     "output_type": "stream",
     "text": [
      "\t eval log_loss: 0.4905\n",
      "==============================\n"
     ]
    },
    {
     "name": "stderr",
     "output_type": "stream",
     "text": [
      "train: 100%|█████████████████████████████████| 256/256 [00:01<00:00, 149.13it/s]\n"
     ]
    },
    {
     "name": "stdout",
     "output_type": "stream",
     "text": [
      "Epoch 6 elapsed: 1.718s\n",
      "\t \u001b[32mtrain_loss: 0.5047\u001b[0m\n"
     ]
    },
    {
     "name": "stderr",
     "output_type": "stream",
     "text": [
      "eval_pointwise: 100%|████████████████████████████| 8/8 [00:00<00:00, 207.58it/s]\n"
     ]
    },
    {
     "name": "stdout",
     "output_type": "stream",
     "text": [
      "\t eval log_loss: 0.4836\n",
      "==============================\n"
     ]
    },
    {
     "name": "stderr",
     "output_type": "stream",
     "text": [
      "train: 100%|█████████████████████████████████| 256/256 [00:01<00:00, 198.50it/s]\n"
     ]
    },
    {
     "name": "stdout",
     "output_type": "stream",
     "text": [
      "Epoch 7 elapsed: 1.291s\n",
      "\t \u001b[32mtrain_loss: 0.4974\u001b[0m\n"
     ]
    },
    {
     "name": "stderr",
     "output_type": "stream",
     "text": [
      "eval_pointwise: 100%|████████████████████████████| 8/8 [00:00<00:00, 233.86it/s]\n"
     ]
    },
    {
     "name": "stdout",
     "output_type": "stream",
     "text": [
      "\t eval log_loss: 0.4800\n",
      "==============================\n"
     ]
    },
    {
     "name": "stderr",
     "output_type": "stream",
     "text": [
      "train: 100%|█████████████████████████████████| 256/256 [00:01<00:00, 194.50it/s]\n"
     ]
    },
    {
     "name": "stdout",
     "output_type": "stream",
     "text": [
      "Epoch 8 elapsed: 1.317s\n",
      "\t \u001b[32mtrain_loss: 0.4926\u001b[0m\n"
     ]
    },
    {
     "name": "stderr",
     "output_type": "stream",
     "text": [
      "eval_pointwise: 100%|████████████████████████████| 8/8 [00:00<00:00, 221.75it/s]\n"
     ]
    },
    {
     "name": "stdout",
     "output_type": "stream",
     "text": [
      "\t eval log_loss: 0.4761\n",
      "==============================\n"
     ]
    },
    {
     "name": "stderr",
     "output_type": "stream",
     "text": [
      "train: 100%|█████████████████████████████████| 256/256 [00:01<00:00, 195.82it/s]\n"
     ]
    },
    {
     "name": "stdout",
     "output_type": "stream",
     "text": [
      "Epoch 9 elapsed: 1.308s\n",
      "\t \u001b[32mtrain_loss: 0.4868\u001b[0m\n"
     ]
    },
    {
     "name": "stderr",
     "output_type": "stream",
     "text": [
      "eval_pointwise: 100%|████████████████████████████| 8/8 [00:00<00:00, 226.37it/s]\n"
     ]
    },
    {
     "name": "stdout",
     "output_type": "stream",
     "text": [
      "\t eval log_loss: 0.4736\n",
      "==============================\n"
     ]
    },
    {
     "name": "stderr",
     "output_type": "stream",
     "text": [
      "train: 100%|█████████████████████████████████| 256/256 [00:01<00:00, 198.48it/s]\n"
     ]
    },
    {
     "name": "stdout",
     "output_type": "stream",
     "text": [
      "Epoch 10 elapsed: 1.291s\n",
      "\t \u001b[32mtrain_loss: 0.4838\u001b[0m\n"
     ]
    },
    {
     "name": "stderr",
     "output_type": "stream",
     "text": [
      "eval_pointwise: 100%|████████████████████████████| 8/8 [00:00<00:00, 225.92it/s]\n"
     ]
    },
    {
     "name": "stdout",
     "output_type": "stream",
     "text": [
      "\t eval log_loss: 0.4721\n",
      "==============================\n"
     ]
    }
   ],
   "source": [
    "ncf = NCF(\n",
    "    task=\"ranking\",\n",
    "    data_info=data_info,\n",
    "    loss_type=\"cross_entropy\",  # Loss type suitable for implicit feedback\n",
    "    embed_size=16,  # Embedding size for user and item embeddings\n",
    "    n_epochs=10,    # Number of epochs\n",
    "    lr=1e-3,        # Learning rate\n",
    "    batch_size=2048,  # Batch size\n",
    "    num_neg=1,      # Number of negative samples (relevant for ranking)\n",
    ")\n",
    "\n",
    "# Fit the model\n",
    "ncf.fit(\n",
    "    train_data,\n",
    "    neg_sampling=True,  # Use negative sampling for ranking\n",
    "    verbose=2,\n",
    "    eval_data=eval_data,\n",
    "    metrics=[\"loss\"],\n",
    ")"
   ]
  },
  {
   "cell_type": "markdown",
   "id": "b73f537a",
   "metadata": {},
   "source": [
    "### 3. Evaluating the Model"
   ]
  },
  {
   "cell_type": "code",
   "execution_count": 28,
   "id": "640609f0",
   "metadata": {},
   "outputs": [
    {
     "name": "stderr",
     "output_type": "stream",
     "text": [
      "eval_pointwise: 100%|████████████████████████████| 8/8 [00:00<00:00, 225.50it/s]\n"
     ]
    },
    {
     "data": {
      "text/plain": [
       "{'loss': 0.47038853111693213}"
      ]
     },
     "execution_count": 28,
     "metadata": {},
     "output_type": "execute_result"
    }
   ],
   "source": [
    "evaluate(\n",
    "    model=ncf,\n",
    "    data=test_data,\n",
    "    neg_sampling=True,  \n",
    "    metrics=[\"loss\"], \n",
    ")"
   ]
  },
  {
   "cell_type": "markdown",
   "id": "19093a6d",
   "metadata": {},
   "source": [
    "### 4. Predictions and Recommendations"
   ]
  },
  {
   "cell_type": "code",
   "execution_count": 29,
   "id": "af0f24b1",
   "metadata": {},
   "outputs": [
    {
     "name": "stdout",
     "output_type": "stream",
     "text": [
      "Predicted preference of user 2358331266 to item 3008060502: [0.71197736]\n",
      "Top 10 recommendations for user 2358331266: {2358331266: array([6013030203, 3512120101, 3511110847, 7002011301, 3514081501,\n",
      "       3514080404, 2001030401, 3006110707, 6102050301,  504020201])}\n"
     ]
    }
   ],
   "source": [
    "# Predict preference of a user for a specific item\n",
    "user_id = 2358331266\n",
    "item_id = 3008060502\n",
    "predicted_score = ncf.predict(user=user_id, item=item_id)\n",
    "print(f\"Predicted preference of user {user_id} to item {item_id}: {predicted_score}\")\n",
    "\n",
    "# Recommend top 10 items for a user\n",
    "recommended_items = ncf.recommend_user(user=user_id, n_rec=10)\n",
    "print(f\"Top 10 recommendations for user {user_id}: {recommended_items}\")"
   ]
  }
 ],
 "metadata": {
  "kernelspec": {
   "display_name": "Python 3 (ipykernel)",
   "language": "python",
   "name": "python3"
  },
  "language_info": {
   "codemirror_mode": {
    "name": "ipython",
    "version": 3
   },
   "file_extension": ".py",
   "mimetype": "text/x-python",
   "name": "python",
   "nbconvert_exporter": "python",
   "pygments_lexer": "ipython3",
   "version": "3.11.5"
  }
 },
 "nbformat": 4,
 "nbformat_minor": 5
}
